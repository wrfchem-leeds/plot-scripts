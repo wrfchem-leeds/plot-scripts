{
 "cells": [
  {
   "cell_type": "code",
   "execution_count": null,
   "metadata": {},
   "outputs": [],
   "source": [
    "import glob\n",
    "import xarray as xr\n",
    "import pandas as pd"
   ]
  },
  {
   "cell_type": "code",
   "execution_count": null,
   "metadata": {},
   "outputs": [],
   "source": [
    "obs = []\n",
    "obs_files = glob.glob('/nobackup/earlacoa/evaluation/china_measurements/*.nc')\n",
    "\n",
    "for obs_file in obs_files:\n",
    "    with xr.open_dataset(obs_file) as ds:\n",
    "        df = ds.to_dataframe()\n",
    "        df['station_id'] = ds.station_id\n",
    "        df['station_lat'] = ds.station_lat\n",
    "        df['station_lon'] = ds.station_lon\n",
    "        df['province'] = ds.province\n",
    "        df['prefecture'] = ds.city_en\n",
    "    \n",
    "    df.set_index('times', inplace=True)\n",
    "    obs.append(df)\n",
    "\n",
    "\n"
   ]
  },
  {
   "cell_type": "code",
   "execution_count": null,
   "metadata": {},
   "outputs": [],
   "source": [
    "df = pd.concat(obs)"
   ]
  },
  {
   "cell_type": "code",
   "execution_count": null,
   "metadata": {},
   "outputs": [],
   "source": [
    "df = pd.melt(\n",
    "    df,\n",
    "    id_vars=['times', 'prefecture', 'province', 'station_id', 'station_lat', 'station_lon'],\n",
    "    value_vars=['AQI', 'CO', 'NO2', 'NOX', 'O3', 'PM10', 'PM2.5', 'SO2']\n",
    ").set_index('times')"
   ]
  },
  {
   "cell_type": "code",
   "execution_count": null,
   "metadata": {},
   "outputs": [],
   "source": [
    "df.to_csv('/nfs/a68/earlacoa/china_measurements/df_china_measurements_2014-2018_tidy.csv')"
   ]
  },
  {
   "cell_type": "code",
   "execution_count": null,
   "metadata": {},
   "outputs": [],
   "source": []
  }
 ],
 "metadata": {
  "kernelspec": {
   "display_name": "python3",
   "language": "python",
   "name": "python3"
  },
  "language_info": {
   "codemirror_mode": {
    "name": "ipython",
    "version": 3
   },
   "file_extension": ".py",
   "mimetype": "text/x-python",
   "name": "python",
   "nbconvert_exporter": "python",
   "pygments_lexer": "ipython3",
   "version": "3.8.3"
  }
 },
 "nbformat": 4,
 "nbformat_minor": 4
}
