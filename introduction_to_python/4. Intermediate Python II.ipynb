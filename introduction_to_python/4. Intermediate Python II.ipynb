{
 "cells": [
  {
   "cell_type": "markdown",
   "metadata": {},
   "source": [
    "## Outline\n",
    "First, we will install Python using Conda.  \n",
    " - 1. Installation.  \n",
    "\n",
    "\n",
    "Then we will follow these helpful guides created by Ryan Abernathey and Kerry Key:\n",
    " - [2. Introduction to Python](https://rabernat.github.io/research_computing/intro-to-python.html).  \n",
    " - [3. Intermediate Python I: NumPy arrays and matplotlib](https://rabernat.github.io/research_computing/numpy-arrays-and-matplotlib.html).  \n",
    " - **[4. Intermediate Python II: Pandas for Tabular Data](https://rabernat.github.io/research_computing/pandas.html).**  \n",
    " - [5. Intermediate Python III: Xarray for Multidimensional Data](https://rabernat.github.io/research_computing/xarray.html).  \n",
    "\n",
    "Then we will apply these to an example WRFChem dataset:\n",
    " - 6. Analyse WRFChem output.  \n",
    "\n",
    "[Here](https://github.com/koldunovn/python_for_geosciences) is another useful set of guides.  "
   ]
  },
  {
   "cell_type": "markdown",
   "metadata": {},
   "source": [
    "## 4. Intermediate Python II: Pandas for Tabular Data"
   ]
  },
  {
   "cell_type": "code",
   "execution_count": null,
   "metadata": {
    "collapsed": false,
    "jupyter": {
     "outputs_hidden": false
    }
   },
   "outputs": [],
   "source": [
    "import numpy as np\n",
    "#import blaze as bl\n",
    "import pandas as pd\n",
    "import seaborn; seaborn.set()\n",
    "from matplotlib import pyplot as plt\n",
    "import time\n",
    "%matplotlib inline"
   ]
  },
  {
   "cell_type": "code",
   "execution_count": null,
   "metadata": {
    "collapsed": false,
    "jupyter": {
     "outputs_hidden": false
    }
   },
   "outputs": [],
   "source": [
    "uri = 'http://www.ldeo.columbia.edu/~rpa/usgs_earthquakes_2014.csv'"
   ]
  },
  {
   "cell_type": "code",
   "execution_count": null,
   "metadata": {
    "collapsed": false,
    "jupyter": {
     "outputs_hidden": false
    }
   },
   "outputs": [],
   "source": [
    "d = pd.read_csv(uri, parse_dates = ['time',], index_col='time')"
   ]
  },
  {
   "cell_type": "code",
   "execution_count": null,
   "metadata": {
    "collapsed": false,
    "jupyter": {
     "outputs_hidden": false
    }
   },
   "outputs": [],
   "source": [
    "d.head()"
   ]
  },
  {
   "cell_type": "code",
   "execution_count": null,
   "metadata": {
    "collapsed": false,
    "jupyter": {
     "outputs_hidden": false
    }
   },
   "outputs": [],
   "source": [
    "d.describe()"
   ]
  },
  {
   "cell_type": "code",
   "execution_count": null,
   "metadata": {
    "collapsed": false,
    "jupyter": {
     "outputs_hidden": false
    }
   },
   "outputs": [],
   "source": [
    "top = d.sort('mag', ascending=False).head(20)\n",
    "top"
   ]
  },
  {
   "cell_type": "code",
   "execution_count": null,
   "metadata": {
    "collapsed": false,
    "jupyter": {
     "outputs_hidden": false
    }
   },
   "outputs": [],
   "source": [
    "gb = d.groupby('mag')"
   ]
  },
  {
   "cell_type": "code",
   "execution_count": null,
   "metadata": {
    "collapsed": false,
    "jupyter": {
     "outputs_hidden": false
    }
   },
   "outputs": [],
   "source": [
    "#gb['depth'].count().plot() # not necessary\n",
    "#d['mag'].hist(by=d['mag']) # didn't work\n",
    "d.hist('mag', bins=20)\n",
    "ax = plt.gca()\n",
    "ax.set_yscale('log')"
   ]
  },
  {
   "cell_type": "code",
   "execution_count": null,
   "metadata": {
    "collapsed": false,
    "jupyter": {
     "outputs_hidden": false
    }
   },
   "outputs": [],
   "source": [
    "d.groupby(pd.TimeGrouper('1d'), axis=0)['mag'].count().plot()"
   ]
  },
  {
   "cell_type": "code",
   "execution_count": null,
   "metadata": {
    "collapsed": false,
    "jupyter": {
     "outputs_hidden": false
    }
   },
   "outputs": [],
   "source": [
    "d.groupby(pd.TimeGrouper('1h'), axis=0)['mag'].count().plot()"
   ]
  },
  {
   "cell_type": "code",
   "execution_count": null,
   "metadata": {
    "collapsed": false,
    "jupyter": {
     "outputs_hidden": false
    }
   },
   "outputs": [],
   "source": [
    "fig = plt.figure(figsize=(12,7))\n",
    "ax = fig.add_subplot(111)\n",
    "subplot = df.plot(kind='scatter', x='longitude', y='latitude', c='mag', ax=ax, cmap='RdBu_r')\n",
    "#subplot.set_xlim([0,20])\n",
    "#hbin.set_c"
   ]
  },
  {
   "cell_type": "code",
   "execution_count": null,
   "metadata": {
    "collapsed": false,
    "jupyter": {
     "outputs_hidden": false
    }
   },
   "outputs": [],
   "source": [
    "from matplotlib.colors import Colormap\n",
    "from matplotlib.cm import ScalarMappable"
   ]
  },
  {
   "cell_type": "code",
   "execution_count": null,
   "metadata": {
    "collapsed": false,
    "jupyter": {
     "outputs_hidden": false
    }
   },
   "outputs": [],
   "source": [
    "# bokeh version\n",
    "from bokeh.plotting import figure, show, output_notebook\n",
    "output_notebook()"
   ]
  },
  {
   "cell_type": "code",
   "execution_count": null,
   "metadata": {
    "collapsed": false,
    "jupyter": {
     "outputs_hidden": false
    }
   },
   "outputs": [],
   "source": [
    "p = figure(title = \"Earthquakes\", width=900, height=500,)\n",
    "p.xaxis.axis_label = 'lon'\n",
    "p.yaxis.axis_label = 'lat'\n",
    "\n",
    "sm = ScalarMappable(cmap='Greens')\n",
    "rgb = (255*sm.to_rgba(df['mag'].values)[:,:3]).astype('int')\n",
    "colors = [\"#%02x%02x%02x\" % tuple(c) for c in rgb]\n",
    "\n",
    "\n",
    "p.scatter(df['longitude'], df['latitude'],\n",
    "       fill_color=colors, fill_alpha=0.6, line_color=None)\n",
    "\n",
    "\n",
    "show(p)"
   ]
  },
  {
   "cell_type": "code",
   "execution_count": null,
   "metadata": {},
   "outputs": [],
   "source": []
  }
 ],
 "metadata": {
  "kernelspec": {
   "display_name": "python3_teaching",
   "language": "python",
   "name": "python3_teaching"
  },
  "language_info": {
   "codemirror_mode": {
    "name": "ipython",
    "version": 3
   },
   "file_extension": ".py",
   "mimetype": "text/x-python",
   "name": "python",
   "nbconvert_exporter": "python",
   "pygments_lexer": "ipython3",
   "version": "3.7.8"
  }
 },
 "nbformat": 4,
 "nbformat_minor": 4
}
