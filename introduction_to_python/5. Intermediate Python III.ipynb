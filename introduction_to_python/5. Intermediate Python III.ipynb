{
 "cells": [
  {
   "cell_type": "markdown",
   "metadata": {},
   "source": [
    "## Outline\n",
    "First, we will install Python using Conda.  \n",
    " - 1. Installation.  \n",
    "\n",
    "\n",
    "Then we will follow these helpful guides created by Ryan Abernathey and Kerry Key:\n",
    " - [2. Introduction to Python](https://rabernat.github.io/research_computing/intro-to-python.html).  \n",
    " - [3. Intermediate Python I: NumPy arrays and matplotlib](https://rabernat.github.io/research_computing/numpy-arrays-and-matplotlib.html).  \n",
    " - [4. Intermediate Python II: Pandas for Tabular Data](https://rabernat.github.io/research_computing/pandas.html).  \n",
    " - **[5. Intermediate Python III: Xarray for Multidimensional Data](https://rabernat.github.io/research_computing/xarray.html).**  \n",
    "\n",
    "Then we will apply these to an example WRFChem dataset:\n",
    " - 6. Analyse WRFChem output.  \n",
    "\n",
    "[Here](https://github.com/koldunovn/python_for_geosciences) is another useful set of guides.  "
   ]
  },
  {
   "cell_type": "markdown",
   "metadata": {},
   "source": [
    "## 5. Intermediate Python III: Xarray for Multidimensional Data\n",
    "\n",
    "This lesson introduces the powerful [xray](http://xray.readthedocs.org) package for analyzing multidimensional netCDF data.\n",
    "\n",
    "We will use xray to perform standard climatological analysis of tropical pacific sea surface temperature, looking for the signature of the [El Niño / Southern Oscillation (ENSO)](http://iri.columbia.edu/our-expertise/climate/enso/) phenomenon."
   ]
  },
  {
   "cell_type": "code",
   "execution_count": null,
   "metadata": {},
   "outputs": [],
   "source": [
    "# import necessary modules\n",
    "import xray\n",
    "import numpy as np\n",
    "from matplotlib import pyplot as plt\n",
    "%matplotlib inline"
   ]
  },
  {
   "cell_type": "code",
   "execution_count": null,
   "metadata": {
    "collapsed": false,
    "jupyter": {
     "outputs_hidden": false
    }
   },
   "outputs": [],
   "source": [
    "# the data we will use is described here\n",
    "# http://www.ncdc.noaa.gov/data-access/marineocean-data/extended-reconstructed-sea-surface-temperature-ersst-v4\n",
    "# It is stored in the IRI data library\n",
    "uri = ('http://iridl.ldeo.columbia.edu/SOURCES/.NOAA/.NCDC/.ERSST/'\n",
    "      '.version4/anom/.sst/T/(days%20since%201960-01-01)/streamgridunitconvert/dods')\n",
    "\n",
    "# open xray dataset\n",
    "ds = xray.open_dataset(uri)\n",
    "ds"
   ]
  },
  {
   "cell_type": "code",
   "execution_count": null,
   "metadata": {
    "collapsed": false,
    "jupyter": {
     "outputs_hidden": false
    }
   },
   "outputs": [],
   "source": [
    "# make an exploratory plot\n",
    "xray.plot.pcolormesh(ds['sst'][0,0])"
   ]
  },
  {
   "cell_type": "markdown",
   "metadata": {},
   "source": [
    "## Niño3.4 Index ##\n",
    "\n",
    "The [Niño3.4 Index](http://www.cgd.ucar.edu/cas/catalog/climind/TNI_N34/index.html#Sec5) is a commonly used metric of ENSO variability. The recipe for calculating it is\n",
    "\n",
    "* Compute area averaged total SST from Niño 3.4 region.\n",
    "* Compute monthly climatology (1950-1979) for area averaged total SST from Niño 3.4 region, and subtract climatology from area averaged total SST time series to obtain anomalies.\n",
    "* Smooth the anomalies with a 5-month running mean.\n",
    "* Normalize the smoothed N3.4 by its standard deviation over the climatological period 1950-1979.\n"
   ]
  },
  {
   "cell_type": "code",
   "execution_count": null,
   "metadata": {
    "collapsed": false,
    "jupyter": {
     "outputs_hidden": false
    }
   },
   "outputs": [],
   "source": [
    "# The Niño 3.4 Region is bounded by 120°W-170°W and 5°S- 5°N.\n",
    "# extract this region\n",
    "sst_n34 = ds.sst.sel(X=slice(190,240), Y=slice(-5,5), zlev=0).mean(dim=('X','Y'))"
   ]
  },
  {
   "cell_type": "code",
   "execution_count": null,
   "metadata": {
    "collapsed": false,
    "jupyter": {
     "outputs_hidden": false
    }
   },
   "outputs": [],
   "source": [
    "# calculate monthly anomaly\n",
    "sst_n34_clim = sst_n34.groupby('T.month').mean('T')\n",
    "sst_n34_anom = sst_n34.groupby('T.month') - sst_n34_clim"
   ]
  },
  {
   "cell_type": "code",
   "execution_count": null,
   "metadata": {
    "collapsed": false,
    "jupyter": {
     "outputs_hidden": false
    }
   },
   "outputs": [],
   "source": [
    "# \"smooth with 5-month running mean\"\n",
    "# The closest thing we can do with xray is resample to 5-month intervals,\n",
    "# which effectively accomplishes the same thing\n",
    "sst_n34_smooth = sst_n34_anom.resample('5M', 'T')"
   ]
  },
  {
   "cell_type": "code",
   "execution_count": null,
   "metadata": {
    "collapsed": false,
    "jupyter": {
     "outputs_hidden": false
    }
   },
   "outputs": [],
   "source": [
    "# now normalize by standard deviation\n",
    "n34_index = sst_n34_smooth / sst_n34_smooth.sel(T=slice('1950','1979')).std()"
   ]
  },
  {
   "cell_type": "code",
   "execution_count": null,
   "metadata": {
    "collapsed": false,
    "jupyter": {
     "outputs_hidden": false
    }
   },
   "outputs": [],
   "source": [
    "# plot it\n",
    "fig = plt.figure(figsize=(12,5))\n",
    "ax = plt.subplot(111)\n",
    "xray.plot.plot(n34_index, ax=ax, marker='o')\n",
    "ax.set_xlim(['1972-01,01','2015-10-01'])\n",
    "ax.grid()"
   ]
  },
  {
   "cell_type": "markdown",
   "metadata": {},
   "source": [
    "## PCA Analysis of Tropical Pacific SST ##\n",
    "\n",
    "Now we use a singular value decomposition to perform a [principal component analysis](http://iridl.ldeo.columbia.edu/dochelp/StatTutorial/SVD/) on the 2D sst fields."
   ]
  },
  {
   "cell_type": "code",
   "execution_count": null,
   "metadata": {},
   "outputs": [],
   "source": [
    "# extract a region in space and time\n",
    "sst_pac = ds.sst.sel(X=slice(120,300), Y=slice(-30,30),\n",
    "                     T=slice('1950-01-1','2015-10-01'), zlev=0)"
   ]
  },
  {
   "cell_type": "code",
   "execution_count": null,
   "metadata": {},
   "outputs": [],
   "source": [
    "# we will NOT subtract a monthly climatology\n",
    "# we want to see the seasonal cycle emerge from our analysis\n",
    "# instead just subtract the time mean\n",
    "ssta_pac = sst_pac - sst_pac.mean(dim='T')"
   ]
  },
  {
   "cell_type": "code",
   "execution_count": null,
   "metadata": {
    "collapsed": false,
    "jupyter": {
     "outputs_hidden": false
    }
   },
   "outputs": [],
   "source": [
    "# visualize the region we're working with\n",
    "ssta_pac[-1].plot.pcolormesh()"
   ]
  },
  {
   "cell_type": "code",
   "execution_count": null,
   "metadata": {
    "collapsed": false,
    "jupyter": {
     "outputs_hidden": false
    }
   },
   "outputs": [],
   "source": [
    "# exract the raw data as numpy array and normalize\n",
    "a = np.ma.masked_invalid(ssta_pac.values.copy()).filled(0.)\n",
    "a -= a.mean()\n",
    "a /= a.std()\n",
    "print(a.mean(), a.std())"
   ]
  },
  {
   "cell_type": "code",
   "execution_count": null,
   "metadata": {
    "collapsed": false,
    "jupyter": {
     "outputs_hidden": false
    }
   },
   "outputs": [],
   "source": [
    "# reshape the array to have one time dimension, one space dimension\n",
    "Nt, Ny, Nx = a.shape\n",
    "a.shape = (Nt, Ny*Nx)"
   ]
  },
  {
   "cell_type": "code",
   "execution_count": null,
   "metadata": {
    "collapsed": false,
    "jupyter": {
     "outputs_hidden": false
    }
   },
   "outputs": [],
   "source": [
    "# perform svd analysis\n",
    "u, s, v = np.linalg.svd(a, full_matrices=False)\n",
    "print(u.shape, v.shape, s.shape)\n",
    "S = np.diag(s)\n",
    "\n",
    "# reshape spatial pattern\n",
    "sst_pat = np.reshape(v, (Nt,Ny,Nx))"
   ]
  },
  {
   "cell_type": "code",
   "execution_count": null,
   "metadata": {
    "collapsed": false,
    "jupyter": {
     "outputs_hidden": false
    }
   },
   "outputs": [],
   "source": [
    "# look at first two eof patterns\n",
    "for n in range(2):\n",
    "    plt.figure(figsize=(12,6))\n",
    "    plt.subplot(211)\n",
    "    plt.pcolormesh(sst_pat[n], cmap='RdBu_r')\n",
    "    plt.title('PCA Component %g' % n)\n",
    "    plt.clim([-0.1,0.1])\n",
    "    plt.subplot(212)\n",
    "    plt.plot(sst_pac['T'], u[:,n])\n",
    "    "
   ]
  },
  {
   "cell_type": "code",
   "execution_count": null,
   "metadata": {
    "collapsed": false,
    "jupyter": {
     "outputs_hidden": false
    }
   },
   "outputs": [],
   "source": [
    "# magnitude of first 10 components\n",
    "plt.plot(s[:10] / s.sum(),'.-')"
   ]
  },
  {
   "cell_type": "code",
   "execution_count": null,
   "metadata": {},
   "outputs": [],
   "source": []
  }
 ],
 "metadata": {
  "kernelspec": {
   "display_name": "python3_teaching",
   "language": "python",
   "name": "python3_teaching"
  },
  "language_info": {
   "codemirror_mode": {
    "name": "ipython",
    "version": 3
   },
   "file_extension": ".py",
   "mimetype": "text/x-python",
   "name": "python",
   "nbconvert_exporter": "python",
   "pygments_lexer": "ipython3",
   "version": "3.7.8"
  }
 },
 "nbformat": 4,
 "nbformat_minor": 4
}
