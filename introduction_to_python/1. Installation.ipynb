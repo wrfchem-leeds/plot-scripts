{
 "cells": [
  {
   "cell_type": "markdown",
   "metadata": {},
   "source": [
    "## Outline\n",
    "First, we will install Python using Conda.  \n",
    " - **1. Installation.**  \n",
    "\n",
    "\n",
    "Then we will follow these helpful guides created by Ryan Abernathey and Kerry Key:\n",
    " - [2. Introduction to Python](https://rabernat.github.io/research_computing/intro-to-python.html).  \n",
    " - [3. Intermediate Python I: NumPy arrays and matplotlib](https://rabernat.github.io/research_computing/numpy-arrays-and-matplotlib.html).  \n",
    " - [4. Intermediate Python II: Pandas for Tabular Data](https://rabernat.github.io/research_computing/pandas.html).  \n",
    " - [5. Intermediate Python III: Xarray for Multidimensional Data](https://rabernat.github.io/research_computing/xarray.html).  \n",
    "\n",
    "Then we will apply these to an example WRFChem dataset:\n",
    " - 6. Analyse WRFChem output.  \n",
    "\n",
    "[Here](https://github.com/koldunovn/python_for_geosciences) is another useful set of guides.  "
   ]
  },
  {
   "cell_type": "markdown",
   "metadata": {},
   "source": [
    "## 1. Installation"
   ]
  },
  {
   "cell_type": "markdown",
   "metadata": {},
   "source": [
    "- Copy this repository:\n",
    "```bash\n",
    "git clone https://github.com/wrfchem-leeds/python-scripts.git\n",
    "```\n",
    "\n",
    "\n",
    "- Go into the Introduction to Python folder:\n",
    "```bash\n",
    "cd python-scripts/introduction_to_python\n",
    "```"
   ]
  },
  {
   "cell_type": "markdown",
   "metadata": {},
   "source": [
    "- I recommend managing your own Python environment using [Conda](https://docs.conda.io/projects/conda/en/latest/user-guide/index.html).  \n",
    "\n",
    "- Download the latest miniconda:  \n",
    "```bash\n",
    "wget https://repo.anaconda.com/miniconda/Miniconda3-latest-Linux-x86_64.sh  \n",
    "```\n",
    "\n",
    "\n",
    "- Run bash script, read terms, and set path:  \n",
    "```bash\n",
    "bash Miniconda3-latest-Linux-x86_64.sh  \n",
    "```\n",
    "\n",
    "\n",
    "- Create conda environment for Python 3 with some useful libraries for analysis.\n",
    "    - The libraries I recommend to analyse WRFChem are:\n",
    "     - [Numpy](https://numpy.org/) for arrays.  \n",
    "     - [xarray](http://xarray.pydata.org/en/stable/) for model output.  \n",
    "     - [Cartopy](https://scitools.org.uk/cartopy/docs/latest/) for geospatial maps.  \n",
    "     - [Matplotlib](https://matplotlib.org/) for plots.  \n",
    "     - [JupyterLab](https://jupyter.org/) for writing interactive code. \n",
    "\n",
    "    - Other libraries I recommend are:\n",
    "     - [Pandas](https://pandas.pydata.org/) for tables.  \n",
    "     - [GeoPandas](https://geopandas.org/) for geospatial tables.  \n",
    "     - [Salem](https://salem.readthedocs.io/en/stable/) for some helpful WRF tools.  \n",
    "     - [SciPy](https://www.scipy.org/) for mathematics and statistics.  \n",
    "     - [Dask](https://dask.org/) for parallel computing.  \n",
    "     - [xESMF](https://xesmf.readthedocs.io/en/latest/) for regridding.  \n",
    "     - [Rasterio](https://rasterio.readthedocs.io/en/latest/) and [Affine](https://github.com/sgillies/affine) for cropping arrays to shapefiles.  \n",
    "     - [WRF-Python](https://wrf-python.readthedocs.io/en/latest/) for analysing WRF output.  \n",
    " \n",
    "From an environment I have created for you:  \n",
    "```bash\n",
    "conda env create --name python3_teaching --file=python3_teaching.yml\n",
    "```  \n",
    "\n",
    "Or you can create it yourself:  \n",
    "\n",
    "```bash\n",
    "conda create -n python3 -c conda-forge -c oggm numpy xarray cartopy matplotlib jupyterlab pandas geopandas salem scipy dask xesmf scipy rasterio affine wrf-python\n",
    "```\n",
    "\n",
    "\n",
    "- To activate/deactivate conda environment:  \n",
    "```bash\n",
    "conda activate python3\n",
    "conda deactivate\n",
    "```\n",
    "\n",
    "\n",
    "- To add your environment for use in JupyterLab:\n",
    "```bash\n",
    "python -m ipykernel install --user --name python3_teaching --display-name \"python3_teaching\"\n",
    "```\n",
    "\n",
    "\n",
    "- To open Jupyter Lab:\n",
    "```bash\n",
    "# viper\n",
    "jupyter lab # --browser=chrome --port=5555\n",
    "```"
   ]
  },
  {
   "cell_type": "code",
   "execution_count": null,
   "metadata": {},
   "outputs": [],
   "source": []
  }
 ],
 "metadata": {
  "kernelspec": {
   "display_name": "python3_teaching",
   "language": "python",
   "name": "python3_teaching"
  },
  "language_info": {
   "codemirror_mode": {
    "name": "ipython",
    "version": 3
   },
   "file_extension": ".py",
   "mimetype": "text/x-python",
   "name": "python",
   "nbconvert_exporter": "python",
   "pygments_lexer": "ipython3",
   "version": "3.7.8"
  }
 },
 "nbformat": 4,
 "nbformat_minor": 4
}
