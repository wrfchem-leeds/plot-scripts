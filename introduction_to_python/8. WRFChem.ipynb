{
 "cells": [
  {
   "cell_type": "markdown",
   "metadata": {},
   "source": [
    "# Outline\n",
    "First, we will install Python using Conda.  \n",
    "1. Installation.  \n",
    "\n",
    "\n",
    "Then we will follow these excellent guides:  \n",
    "\n",
    "2. [Basics](https://github.com/koldunovn/python_for_geosciences/blob/master/02%20-%20Python%20basics.ipynb) guide by Nikolay Koldunov from the course on [Python for GeoSciences](https://github.com/koldunovn/python_for_geosciences).  \n",
    "3. [NumPy](https://github.com/koldunovn/python_for_geosciences/blob/master/03%20-%20NumPy%20arrays.ipynb) guide by Nikolay Koldunov from the course on [Python for GeoSciences](https://github.com/koldunovn/python_for_geosciences).  \n",
    "4. [Matplotlib](https://github.com/koldunovn/python_for_geosciences/blob/master/05.1%20-%20Graphs%20(Matplotlib).ipynb) guide by Nikolay Koldunov from the course on [Python for GeoSciences](https://github.com/koldunovn/python_for_geosciences).  \n",
    "5. [Cartopy](https://github.com/koldunovn/python_for_geosciences/blob/master/05.3%20-%20Maps%20(cartopy).ipynb) guide by Nikolay Koldunov from the course on [Python for GeoSciences](https://github.com/koldunovn/python_for_geosciences).  \n",
    "6. [Pandas and GeoPandas](http://gallery.pangeo.io/repos/pangeo-data/pangeo-tutorial-gallery/geopandas.html) guide by Pangeo.  \n",
    "7. [Xarray](http://gallery.pangeo.io/repos/pangeo-data/pangeo-tutorial-gallery/xarray.html) guide by Pangeo.  \n",
    "\n",
    "Then we will apply these to an example WRFChem dataset:  \n",
    "\n",
    "8. **WRFChem.**  \n",
    "\n",
    "Advanced Python guides beyond this introduction:  \n",
    "\n",
    "9. [Dask](http://gallery.pangeo.io/repos/pangeo-data/pangeo-tutorial-gallery/dask.html) guide by Pangeo.  \n",
    "\n",
    "___"
   ]
  },
  {
   "cell_type": "markdown",
   "metadata": {},
   "source": [
    "# 8. WRFChem"
   ]
  },
  {
   "cell_type": "code",
   "execution_count": null,
   "metadata": {},
   "outputs": [],
   "source": [
    "# import the required libraries\n",
    "import xarray as xr\n",
    "import salem\n",
    "import numpy as np\n",
    "import matplotlib.pyplot as plt\n",
    "import matplotlib.gridspec as gridspec\n",
    "import cartopy.crs as ccrs"
   ]
  },
  {
   "cell_type": "code",
   "execution_count": null,
   "metadata": {},
   "outputs": [],
   "source": [
    "# open the data set\n",
    "ds = xr.open_dataset('/nfs/a68/earlacoa/shared/wrfout_d01_global_0.25deg_2015-12_PM2_5_DRY.nc')\n",
    "\n",
    "ds"
   ]
  },
  {
   "cell_type": "code",
   "execution_count": null,
   "metadata": {},
   "outputs": [],
   "source": [
    "# extract the data array\n",
    "pm25 = ds['PM2_5_DRY']\n",
    "pm25"
   ]
  },
  {
   "cell_type": "code",
   "execution_count": null,
   "metadata": {},
   "outputs": [],
   "source": [
    "# monthly mean\n",
    "pm25_mean = pm25.mean(dim='time')\n",
    "pm25_mean"
   ]
  },
  {
   "cell_type": "code",
   "execution_count": null,
   "metadata": {},
   "outputs": [],
   "source": [
    "lon = ds.lon.values\n",
    "lat = ds.lat.values\n",
    "    \n",
    "# create 2d latitude and longitude arrays for plotting\n",
    "xx, yy = np.meshgrid(lon, lat)"
   ]
  },
  {
   "cell_type": "code",
   "execution_count": null,
   "metadata": {},
   "outputs": [],
   "source": [
    "# create a plot\n",
    "fig = plt.figure(1, figsize=(8, 8))\n",
    "gs = gridspec.GridSpec(1, 1)\n",
    "\n",
    "ax = fig.add_subplot(gs[0], projection=ccrs.PlateCarree())\n",
    "ax.set_extent([70, 140, 0, 60], crs=ccrs.PlateCarree())\n",
    "ax.coastlines()\n",
    "im = ax.contourf(xx, yy, pm25_mean, transform=ccrs.PlateCarree())\n",
    "fig.colorbar(im, label='Ambient PM$_{2.5}$ concentrations (${\\mu}g$ $m^{-3}$)', shrink=0.69)\n",
    "plt.title('Dec 2015 WRFChem output')\n",
    "\n",
    "plt.tight_layout()\n",
    "plt.show()"
   ]
  },
  {
   "cell_type": "code",
   "execution_count": null,
   "metadata": {},
   "outputs": [],
   "source": [
    "# import custom functions to cut a data array to a shapefile\n",
    "from cutshapefile import transform_from_latlon, rasterize"
   ]
  },
  {
   "cell_type": "code",
   "execution_count": null,
   "metadata": {},
   "outputs": [],
   "source": [
    "# load shapefile (single multipolygon) and extract shapes\n",
    "import geopandas as gpd\n",
    "\n",
    "shapefile = gpd.read_file('CHN_adm0.shp') # more can obtained from here: https://gadm.org/\n",
    "shapes = [(shape, index) for index, shape in enumerate(shapefile.geometry)]\n",
    "\n",
    "shapefile"
   ]
  },
  {
   "cell_type": "code",
   "execution_count": null,
   "metadata": {},
   "outputs": [],
   "source": [
    "# apply shapefile to geometry, default: inside shapefile == 0, outside shapefile == np.nan\n",
    "ds['shapefile'] = rasterize(shapes, ds.coords, longitude='lon', latitude='lat') "
   ]
  },
  {
   "cell_type": "code",
   "execution_count": null,
   "metadata": {},
   "outputs": [],
   "source": [
    "ds"
   ]
  },
  {
   "cell_type": "code",
   "execution_count": null,
   "metadata": {},
   "outputs": [],
   "source": [
    "# change to more intuitive labelling of 1 for inside shapefile and np.nan for outside shapefile\n",
    "# if condition preserve (outside shapefile, as inside defaults to 0), otherwise (1, to mark in shapefile)\n",
    "ds['shapefile'] = ds.shapefile.where(cond=ds.shapefile!=0, other=1) "
   ]
  },
  {
   "cell_type": "code",
   "execution_count": null,
   "metadata": {},
   "outputs": [],
   "source": [
    "np.nan"
   ]
  },
  {
   "cell_type": "code",
   "execution_count": null,
   "metadata": {},
   "outputs": [],
   "source": [
    "ds = ds.where(cond=ds.shapefile==1, other=np.nan) # set data outside shapefile to np.nan: if condition (in shapefile) preserve, otherwise (not in shapefile) set to np.nan\n",
    "#ds = ds.where(cond=ds.shapefile!=1, other=ds*0.5) # scale data outside shapefile by 0.5: if condition (not in shapefile) preserve, otherwise (in shapefile) scale"
   ]
  },
  {
   "cell_type": "code",
   "execution_count": null,
   "metadata": {},
   "outputs": [],
   "source": [
    "ds"
   ]
  },
  {
   "cell_type": "code",
   "execution_count": null,
   "metadata": {},
   "outputs": [],
   "source": [
    "pm25_cropped = ds['PM2_5_DRY']\n",
    "\n",
    "pm25_cropped_mean = pm25_cropped.mean(dim='time')\n",
    "pm25_cropped_mean"
   ]
  },
  {
   "cell_type": "code",
   "execution_count": null,
   "metadata": {},
   "outputs": [],
   "source": [
    "# create a plot\n",
    "fig = plt.figure(1, figsize=(8, 8))\n",
    "gs = gridspec.GridSpec(1, 1)\n",
    "\n",
    "ax = fig.add_subplot(gs[0], projection=ccrs.PlateCarree())\n",
    "ax.set_extent([70, 140, 0, 60], crs=ccrs.PlateCarree())\n",
    "ax.coastlines()\n",
    "im = ax.contourf(xx, yy, pm25_cropped_mean, transform=ccrs.PlateCarree())\n",
    "fig.colorbar(im, label='Ambient PM$_{2.5}$ concentrations (${\\mu}g$ $m^{-3}$)', shrink=0.69)\n",
    "plt.title('Dec 2015 WRFChem output - cropped to shapefile')\n",
    "\n",
    "plt.tight_layout()\n",
    "plt.show()"
   ]
  },
  {
   "cell_type": "code",
   "execution_count": null,
   "metadata": {},
   "outputs": [],
   "source": [
    "# open population count for 2015\n",
    "pop = xr.open_dataset('/nfs/a68/earlacoa/shared/gpw_v4_population_count_rev11_2020_0.25deg_crop.nc')['pop']\n",
    "pop"
   ]
  },
  {
   "cell_type": "code",
   "execution_count": null,
   "metadata": {},
   "outputs": [],
   "source": [
    "# population-weighted exposures\n",
    "pm25_cropped_popweighted = (pm25_cropped * pop) / 1_439_323_776 # population of China in 2020\n",
    "pm25_cropped_popweighted_china = pm25_cropped_popweighted.sum(dim=['lat', 'lon'])\n",
    "pm25_cropped_popweighted_china"
   ]
  },
  {
   "cell_type": "code",
   "execution_count": null,
   "metadata": {},
   "outputs": [],
   "source": [
    "pm25_cropped_popweighted_china.plot()"
   ]
  },
  {
   "cell_type": "code",
   "execution_count": null,
   "metadata": {},
   "outputs": [],
   "source": [
    "pm25_cropped_popweighted_china.mean()"
   ]
  },
  {
   "cell_type": "code",
   "execution_count": null,
   "metadata": {},
   "outputs": [],
   "source": [
    "ds.close()"
   ]
  },
  {
   "cell_type": "code",
   "execution_count": null,
   "metadata": {},
   "outputs": [],
   "source": []
  }
 ],
 "metadata": {
  "kernelspec": {
   "display_name": "python3_teaching",
   "language": "python",
   "name": "python3_teaching"
  },
  "language_info": {
   "codemirror_mode": {
    "name": "ipython",
    "version": 3
   },
   "file_extension": ".py",
   "mimetype": "text/x-python",
   "name": "python",
   "nbconvert_exporter": "python",
   "pygments_lexer": "ipython3",
   "version": "3.7.8"
  }
 },
 "nbformat": 4,
 "nbformat_minor": 4
}
