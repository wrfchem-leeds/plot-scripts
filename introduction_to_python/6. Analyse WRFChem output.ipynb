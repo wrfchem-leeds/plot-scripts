{
 "cells": [
  {
   "cell_type": "markdown",
   "metadata": {},
   "source": [
    "## Outline\n",
    "First, we will install Python using Conda.  \n",
    " - 1. Installation.  \n",
    "\n",
    "\n",
    "Then we will follow these helpful guides created by Ryan Abernathey and Kerry Key:\n",
    " - [2. Introduction to Python](https://rabernat.github.io/research_computing/intro-to-python.html).  \n",
    " - [3. Intermediate Python I: NumPy arrays and matplotlib](https://rabernat.github.io/research_computing/numpy-arrays-and-matplotlib.html).  \n",
    " - [4. Intermediate Python II: Pandas for Tabular Data](https://rabernat.github.io/research_computing/pandas.html).  \n",
    " - [5. Intermediate Python III: Xarray for Multidimensional Data](https://rabernat.github.io/research_computing/xarray.html).  \n",
    "\n",
    "Then we will apply these to an example WRFChem dataset:\n",
    " - **6. Analyse WRFChem output.**  \n",
    "\n",
    "[Here](https://github.com/koldunovn/python_for_geosciences) is another useful set of guides.  "
   ]
  },
  {
   "cell_type": "markdown",
   "metadata": {},
   "source": [
    "## 6. Analyse WRFChem output"
   ]
  },
  {
   "cell_type": "code",
   "execution_count": null,
   "metadata": {},
   "outputs": [],
   "source": [
    "# import the required libraries\n",
    "import xarray as xr\n",
    "import numpy as np\n",
    "import matplotlib.pyplot as plt\n",
    "import matplotlib.gridspec as gridspec\n",
    "import cartopy.crs as ccrs"
   ]
  },
  {
   "cell_type": "code",
   "execution_count": null,
   "metadata": {},
   "outputs": [],
   "source": [
    "# open the data set\n",
    "ds = xr.open_dataset('/nfs/a68/earlacoa/shared/wrfout_2015_PM2_5_DRY_annual_mean_0.25deg.nc')\n",
    "print(ds)"
   ]
  },
  {
   "cell_type": "code",
   "execution_count": null,
   "metadata": {},
   "outputs": [],
   "source": [
    "# extract the data arrays\n",
    "pm25 = ds['PM2_5_DRY']\n",
    "lon = ds.lon.values\n",
    "lat = ds.lat.values\n",
    "    \n",
    "# create 2d latitude and longitude arrays for plotting\n",
    "xx, yy = np.meshgrid(lon, lat)"
   ]
  },
  {
   "cell_type": "code",
   "execution_count": null,
   "metadata": {},
   "outputs": [],
   "source": [
    "# create a plot\n",
    "fig = plt.figure(1, figsize=(8, 8))\n",
    "gs = gridspec.GridSpec(1, 1)\n",
    "\n",
    "ax = fig.add_subplot(gs[0], projection=ccrs.PlateCarree())\n",
    "ax.set_extent([70, 140, 0, 60], crs=ccrs.PlateCarree())\n",
    "ax.coastlines()\n",
    "im = ax.contourf(xx, yy, pm25, transform=ccrs.PlateCarree())\n",
    "fig.colorbar(im, label='Ambient PM$_{2.5}$ concentrations (${\\mu}g$ $m^{-3}$)', shrink=0.69)\n",
    "plt.title('Annual-mean WRFChem output')\n",
    "\n",
    "plt.tight_layout()\n",
    "plt.show()"
   ]
  },
  {
   "cell_type": "code",
   "execution_count": null,
   "metadata": {},
   "outputs": [],
   "source": []
  }
 ],
 "metadata": {
  "kernelspec": {
   "display_name": "python3_teaching",
   "language": "python",
   "name": "python3_teaching"
  },
  "language_info": {
   "codemirror_mode": {
    "name": "ipython",
    "version": 3
   },
   "file_extension": ".py",
   "mimetype": "text/x-python",
   "name": "python",
   "nbconvert_exporter": "python",
   "pygments_lexer": "ipython3",
   "version": "3.7.8"
  }
 },
 "nbformat": 4,
 "nbformat_minor": 4
}
