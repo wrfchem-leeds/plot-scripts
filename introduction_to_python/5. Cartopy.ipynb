{
 "cells": [
  {
   "cell_type": "markdown",
   "metadata": {},
   "source": [
    "# Outline\n",
    "First, we will install Python using Conda.  \n",
    "1. Installation.  \n",
    "\n",
    "\n",
    "Then we will follow these excellent guides:  \n",
    "\n",
    "2. [Basics](https://github.com/koldunovn/python_for_geosciences/blob/master/02%20-%20Python%20basics.ipynb) guide by Nikolay Koldunov from the course on [Python for GeoSciences](https://github.com/koldunovn/python_for_geosciences).  \n",
    "3. [NumPy](https://github.com/koldunovn/python_for_geosciences/blob/master/03%20-%20NumPy%20arrays.ipynb) guide by Nikolay Koldunov from the course on [Python for GeoSciences](https://github.com/koldunovn/python_for_geosciences).  \n",
    "4. [Matplotlib](https://github.com/koldunovn/python_for_geosciences/blob/master/05.1%20-%20Graphs%20(Matplotlib).ipynb) guide by Nikolay Koldunov from the course on [Python for GeoSciences](https://github.com/koldunovn/python_for_geosciences).  \n",
    "5. **[Cartopy](https://github.com/koldunovn/python_for_geosciences/blob/master/05.3%20-%20Maps%20(cartopy).ipynb) guide by Nikolay Koldunov from the course on [Python for GeoSciences](https://github.com/koldunovn/python_for_geosciences).**  \n",
    "6. [Pandas and GeoPandas](http://gallery.pangeo.io/repos/pangeo-data/pangeo-tutorial-gallery/geopandas.html) guide by Pangeo.  \n",
    "7. [Xarray](http://gallery.pangeo.io/repos/pangeo-data/pangeo-tutorial-gallery/xarray.html) guide by Pangeo.  \n",
    "\n",
    "Then we will apply these to an example WRFChem dataset:  \n",
    "\n",
    "8. WRFChem.  \n",
    "\n",
    "Advanced Python guides beyond this introduction:  \n",
    "\n",
    "9. [Dask](http://gallery.pangeo.io/repos/pangeo-data/pangeo-tutorial-gallery/dask.html) guide by Pangeo.  \n",
    "\n",
    "___"
   ]
  },
  {
   "cell_type": "markdown",
   "metadata": {},
   "source": [
    "# 5. Cartopy"
   ]
  },
  {
   "cell_type": "markdown",
   "metadata": {},
   "source": [
    " - [Website](http://scitools.org.uk/cartopy/)"
   ]
  },
  {
   "cell_type": "code",
   "execution_count": null,
   "metadata": {},
   "outputs": [],
   "source": [
    "%matplotlib inline\n",
    "import matplotlib.pylab as plt\n",
    "from matplotlib import cm\n",
    "import numpy as np\n",
    "import cartopy.crs as ccrs\n",
    "import cartopy.feature as cfeature"
   ]
  },
  {
   "cell_type": "code",
   "execution_count": null,
   "metadata": {},
   "outputs": [],
   "source": [
    "plt.figure(figsize=(10,5))\n",
    "ax = plt.axes(projection=ccrs.Mercator())"
   ]
  },
  {
   "cell_type": "code",
   "execution_count": null,
   "metadata": {},
   "outputs": [],
   "source": [
    "plt.figure(figsize=(10,5))\n",
    "ax = plt.axes(projection=ccrs.Mercator())\n",
    "ax.coastlines()"
   ]
  },
  {
   "cell_type": "code",
   "execution_count": null,
   "metadata": {},
   "outputs": [],
   "source": [
    "plt.figure(figsize=(10,5))\n",
    "ax = plt.axes(projection=ccrs.Mercator())\n",
    "ax.coastlines()\n",
    "ax.set_extent([-100, 20, 20, 60], crs=ccrs.PlateCarree())"
   ]
  },
  {
   "cell_type": "markdown",
   "metadata": {},
   "source": [
    "[List of cartopy projections](https://scitools.org.uk/cartopy/docs/latest/crs/projections.html)"
   ]
  },
  {
   "cell_type": "code",
   "execution_count": null,
   "metadata": {},
   "outputs": [],
   "source": [
    "plt.figure(figsize=(10,5))\n",
    "ax = plt.axes(projection=ccrs.NorthPolarStereo())\n",
    "ax.coastlines()\n",
    "ax.set_extent([-180, 180, 60, 90], crs=ccrs.PlateCarree())"
   ]
  },
  {
   "cell_type": "code",
   "execution_count": null,
   "metadata": {},
   "outputs": [],
   "source": [
    "plt.figure(figsize=(10,5))\n",
    "ax = plt.axes(projection=ccrs.Mercator())\n",
    "ax.coastlines(resolution = '50m')\n",
    "ax.set_extent([-100, 20, 20, 60], crs=ccrs.PlateCarree())"
   ]
  },
  {
   "cell_type": "code",
   "execution_count": null,
   "metadata": {},
   "outputs": [],
   "source": [
    "plt.figure(figsize=(10,5))\n",
    "ax = plt.axes(projection=ccrs.Mercator())\n",
    "ax.coastlines(resolution = '50m')\n",
    "ax.set_extent([-100, 20, 20, 60], crs=ccrs.PlateCarree())\n",
    "ax.add_feature(\n",
    "            cfeature.GSHHSFeature(levels=[1], scale=\"coarse\", facecolor=\"lightgray\")\n",
    "        )"
   ]
  },
  {
   "cell_type": "code",
   "execution_count": null,
   "metadata": {},
   "outputs": [],
   "source": [
    "!wget ftp://ftp.cdc.noaa.gov/Datasets/ncep.reanalysis.dailyavgs/surface_gauss/air.2m.gauss.2016.nc\n",
    "\n",
    "#Alternative for the times of US goverment shutdowns:\n",
    "#!wget http://database.rish.kyoto-u.ac.jp/arch/ncep/data/ncep.reanalysis/surface/air.sig995.2012.nc"
   ]
  },
  {
   "cell_type": "code",
   "execution_count": null,
   "metadata": {},
   "outputs": [],
   "source": [
    "from netCDF4 import Dataset\n",
    "fl = Dataset('./air.2m.gauss.2016.nc')\n",
    "air = fl.variables['air'][0,:,:]\n",
    "lat = fl.variables['lat'][:]\n",
    "lon = fl.variables['lon'][:]"
   ]
  },
  {
   "cell_type": "code",
   "execution_count": null,
   "metadata": {},
   "outputs": [],
   "source": [
    "plt.figure(figsize=(10,5))\n",
    "ax = plt.axes(projection=ccrs.Mercator())\n",
    "ax.coastlines(resolution = '50m')\n",
    "ax.set_extent([-100, 20, 20, 60], crs=ccrs.PlateCarree())\n",
    "ax.add_feature(\n",
    "            cfeature.GSHHSFeature(levels=[1], scale=\"coarse\", facecolor=\"lightgray\")\n",
    "        )\n",
    "ax.contourf(lon, lat, air, transform=ccrs.PlateCarree())"
   ]
  },
  {
   "cell_type": "code",
   "execution_count": null,
   "metadata": {},
   "outputs": [],
   "source": [
    "from cartopy.util import add_cyclic_point"
   ]
  },
  {
   "cell_type": "code",
   "execution_count": null,
   "metadata": {},
   "outputs": [],
   "source": [
    "air_cyc, lon_cyc = add_cyclic_point(air, coord=lon)"
   ]
  },
  {
   "cell_type": "code",
   "execution_count": null,
   "metadata": {},
   "outputs": [],
   "source": [
    "plt.figure(figsize=(10,5))\n",
    "ax = plt.axes(projection=ccrs.Mercator())\n",
    "ax.coastlines(resolution = '50m')\n",
    "ax.set_extent([-100, 20, 20, 60], crs=ccrs.PlateCarree())\n",
    "ax.add_feature(\n",
    "            cfeature.GSHHSFeature(levels=[1], scale=\"coarse\", facecolor=\"lightgray\")\n",
    "        )\n",
    "ax.contourf(lon_cyc, lat, air_cyc, transform=ccrs.PlateCarree())"
   ]
  },
  {
   "cell_type": "code",
   "execution_count": null,
   "metadata": {},
   "outputs": [],
   "source": [
    "lon2d, lat2d = np.meshgrid(lon_cyc, lat)"
   ]
  },
  {
   "cell_type": "code",
   "execution_count": null,
   "metadata": {},
   "outputs": [],
   "source": [
    "plt.figure(figsize=(10,5))\n",
    "ax = plt.axes(projection=ccrs.Mercator())\n",
    "ax.coastlines(resolution = '50m')\n",
    "ax.set_extent([-100, 20, 20, 60], crs=ccrs.PlateCarree())\n",
    "ax.add_feature(\n",
    "            cfeature.GSHHSFeature(levels=[1], scale=\"coarse\", facecolor=\"lightgray\")\n",
    "        )\n",
    "ax.contourf(lon2d, lat2d, air_cyc, transform=ccrs.PlateCarree())"
   ]
  },
  {
   "cell_type": "code",
   "execution_count": null,
   "metadata": {},
   "outputs": [],
   "source": [
    "plt.figure(figsize=(10,5))\n",
    "ax = plt.axes(projection=ccrs.Mercator())\n",
    "ax.coastlines(resolution = '50m')\n",
    "ax.set_extent([-100, 20, 20, 60], crs=ccrs.PlateCarree())\n",
    "ax.add_feature(\n",
    "            cfeature.GSHHSFeature(levels=[1], scale=\"coarse\", facecolor=\"lightgray\")\n",
    "        )\n",
    "ax.contourf(lon_cyc, lat, air_cyc, transform=ccrs.PlateCarree(), levels = np.linspace(275,300,51))"
   ]
  },
  {
   "cell_type": "code",
   "execution_count": null,
   "metadata": {},
   "outputs": [],
   "source": [
    "plt.figure(figsize=(10,5))\n",
    "ax = plt.axes(projection=ccrs.Mercator())\n",
    "ax.coastlines(resolution = '50m')\n",
    "ax.set_extent([-100, 20, 20, 60], crs=ccrs.PlateCarree())\n",
    "ax.add_feature(\n",
    "            cfeature.GSHHSFeature(levels=[1], scale=\"coarse\", facecolor=\"lightgray\")\n",
    "        )\n",
    "image = ax.contourf(lon_cyc,\n",
    "                    lat,\n",
    "                    air_cyc,\n",
    "                    transform=ccrs.PlateCarree(),\n",
    "                    levels = np.linspace(275,300,51), \n",
    "                    extend='both')\n",
    "cb = plt.colorbar(image, orientation='horizontal', pad=0.03, shrink = 0.8)\n",
    "cb.ax.tick_params(labelsize=12)\n",
    "cb.set_label('K', size=20)"
   ]
  },
  {
   "cell_type": "code",
   "execution_count": null,
   "metadata": {},
   "outputs": [],
   "source": [
    "plt.figure(figsize=(10,5))\n",
    "ax = plt.axes(projection=ccrs.Mercator())\n",
    "ax.coastlines(resolution = '50m')\n",
    "ax.set_extent([-100, 20, 20, 60], crs=ccrs.PlateCarree())\n",
    "ax.add_feature(\n",
    "            cfeature.GSHHSFeature(levels=[1], scale=\"coarse\", facecolor=\"lightgray\")\n",
    "        )\n",
    "image = ax.contourf(lon_cyc,\n",
    "                    lat,\n",
    "                    air_cyc,\n",
    "                    transform=ccrs.PlateCarree(),\n",
    "                    levels = np.linspace(275,300,51), \n",
    "                    extend='both')\n",
    "cb = plt.colorbar(image, orientation='horizontal', pad=0.08, shrink = 0.8)\n",
    "cb.ax.tick_params(labelsize=12)\n",
    "cb.set_label('K', size=20)\n",
    "gl = ax.gridlines(draw_labels=True) # Only PlateCarree and Mercator plots are currently supported.\n"
   ]
  },
  {
   "cell_type": "markdown",
   "metadata": {},
   "source": [
    "[More on cartopy label formating](https://scitools.org.uk/cartopy/docs/latest/gallery/tick_labels.html)\n",
    "\n",
    "[The labeles for other projections should come soon (version 0.18)](https://github.com/SciTools/cartopy/pull/1117)"
   ]
  }
 ],
 "metadata": {
  "kernelspec": {
   "display_name": "python3_teaching",
   "language": "python",
   "name": "python3_teaching"
  },
  "language_info": {
   "codemirror_mode": {
    "name": "ipython",
    "version": 3
   },
   "file_extension": ".py",
   "mimetype": "text/x-python",
   "name": "python",
   "nbconvert_exporter": "python",
   "pygments_lexer": "ipython3",
   "version": "3.7.8"
  }
 },
 "nbformat": 4,
 "nbformat_minor": 4
}
